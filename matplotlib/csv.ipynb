{
 "cells": [
  {
   "cell_type": "code",
   "execution_count": 2,
   "metadata": {},
   "outputs": [],
   "source": [
    "import matplotlib.pyplot as plt\n",
    "import csv"
   ]
  },
  {
   "cell_type": "code",
   "execution_count": 5,
   "metadata": {},
   "outputs": [
    {
     "name": "stdout",
     "output_type": "stream",
     "text": [
      " Volume in drive C has no label.\n",
      " Volume Serial Number is 0000-B0B4\n",
      "\n",
      " Directory of C:\\Users\\yuzuki\\code\\ex-python\\matplotlib\n",
      "\n",
      "2021/03/12  18:04    <DIR>          .\n",
      "2021/03/12  18:04    <DIR>          ..\n",
      "2021/03/12  18:04    <DIR>          .ipynb_checkpoints\n",
      "2021/03/12  17:59           800,483 15.ipynb\n",
      "2021/03/12  18:03            30,148 chapter_16_death_valley_2014.csv\n",
      "2021/03/12  18:02         1,431,081 chapter_16_pygal2_update_population_data.json\n",
      "2021/03/12  18:03             2,989 chapter_16_sitka_weather_07-2014.csv\n",
      "2021/03/12  18:03            30,600 chapter_16_sitka_weather_2014.csv\n",
      "2021/03/12  18:04                72 csv.ipynb\n",
      "2021/03/12  17:59             9,378 squares_plot.png\n",
      "               7 File(s)      2,304,751 bytes\n",
      "               3 Dir(s)  32,968,323,072 bytes free\n"
     ]
    }
   ],
   "source": [
    "!dir"
   ]
  },
  {
   "cell_type": "code",
   "execution_count": null,
   "metadata": {},
   "outputs": [],
   "source": [
    "filename = 'chapter_16_sitka_weather_07-2014.csv'\n",
    "\n",
    "with open filename as f:\n",
    "    reader = csv"
   ]
  }
 ],
 "metadata": {
  "kernelspec": {
   "display_name": "Python 3",
   "language": "python",
   "name": "python3"
  },
  "language_info": {
   "codemirror_mode": {
    "name": "ipython",
    "version": 3
   },
   "file_extension": ".py",
   "mimetype": "text/x-python",
   "name": "python",
   "nbconvert_exporter": "python",
   "pygments_lexer": "ipython3",
   "version": "3.8.3"
  }
 },
 "nbformat": 4,
 "nbformat_minor": 4
}
