{
 "cells": [
  {
   "cell_type": "code",
   "execution_count": 1,
   "metadata": {},
   "outputs": [],
   "source": [
    "import requests\n",
    "import re\n",
    "\n",
    "class MyCrawler:\n",
    "    def __init__(self, filename):\n",
    "        self.filename = filename\n",
    "    \n",
    "    def download(self, url):\n",
    "        r = requests.get(url)\n",
    "        return r.text\n",
    "    \n",
    "    def extract(self, content, pattern):\n",
    "        result = re.findall(pattern, content)\n",
    "        return result\n",
    "    \n",
    "    def save(self, info):\n",
    "        with open(self.filename, 'a', encoding='utf-8') as f:\n",
    "            for item in info:\n",
    "                f.write('|||'.join(item) + '\\n')\n",
    "    \n",
    "    def crawl(self, url, pattern):\n",
    "        content = self.download(url)\n",
    "        info = self.extract(content, pattern)\n",
    "        self.save(info)"
   ]
  },
  {
   "cell_type": "code",
   "execution_count": 2,
   "metadata": {},
   "outputs": [],
   "source": [
    "url = 'https://wap.zol.com.cn/top/cell_phone/hot.html'\n",
    "pattern = '<p class=\"pro-info-name f28\">(.*?)<\\/p>[\\S\\s]*?<span class=\"pro-info-price f24\">(.*?)<\\/span>'"
   ]
  },
  {
   "cell_type": "code",
   "execution_count": 19,
   "metadata": {},
   "outputs": [],
   "source": [
    "crawler = MyCrawler('mobile.txt')"
   ]
  },
  {
   "cell_type": "code",
   "execution_count": 20,
   "metadata": {},
   "outputs": [],
   "source": [
    "crawler.craw(url, pattern)"
   ]
  },
  {
   "cell_type": "code",
   "execution_count": 21,
   "metadata": {},
   "outputs": [
    {
     "name": "stdout",
     "output_type": "stream",
     "text": [
      "mobile.txt      未命名.ipynb\r\n"
     ]
    }
   ],
   "source": [
    "!ls"
   ]
  },
  {
   "cell_type": "code",
   "execution_count": 22,
   "metadata": {},
   "outputs": [
    {
     "name": "stdout",
     "output_type": "stream",
     "text": [
      "vivo X60（8GB/128GB/全网通/5G版） ￥3498\r\n",
      "OPPO Reno5 Pro（8GB/128GB/全网通/5G版） ￥3399\r\n",
      "华为Mate40 Pro（8GB/256GB/全网通/5G版/玻璃版） ￥6999\r\n",
      "OPPO Reno4 SE（8GB/128GB/全网通/5G版） ￥2499\r\n",
      "三星Galaxy Note 20 Ultra（12GB/256GB/全网通/5G版） ￥9199\r\n",
      "一加8T（8GB/128GB/全网通/5G版） ￥3548\r\n",
      "vivo X50 Pro（8GB/128GB/全网通/5G版） ￥3998\r\n",
      "华为nova 7 Pro（8GB/128GB/5G版/全网通） ￥3699\r\n",
      "荣耀30 Pro（8GB/128GB/全网通/5G版） ￥4099\r\n",
      "realme Q2（4GB/128GB/全网通/5G版） ￥1149\r\n",
      "iQOO 5 Pro（8GB/256GB/全网通/5G版） ￥4998\r\n",
      "苹果iPhone 12（4GB/64GB/全网通/5G版） ￥6299\r\n",
      "苹果iPhone 12 Pro Max（6GB/128GB/全网通/5G版） ￥9299\r\n",
      "小米11（8GB/128GB/全网通/5G版） ￥3999\r\n",
      "vivo X60 Pro（12GB/256GB/全网通/5G版） ￥4498\r\n",
      "OPPO Reno5 Pro+（8GB/128GB/全网通/5G版） ￥3999\r\n",
      "OPPO Reno5（12GB/256GB/全网通/5G版） ￥2999\r\n",
      "华为Mate40（8GB/128GB/全网通/5G版/玻璃版） ￥4999\r\n",
      "华为nova 8（8GB/128GB/全网通/5G版） ￥3299\r\n",
      "小米10（8GB/128GB/全网通） ￥3799\r\n",
      "魅族17（8GB/128GB/全网通/5G版） ￥3199\r\n",
      "Redmi K30S（8GB/128GB/全网通/5G版/至尊纪念版） ￥2599\r\n",
      "OPPO Find X2 Pro（12GB/256GB/全网通/5G版） ￥5999\r\n",
      "苹果iPhone 12（4GB/128GB/全网通/5G版） ￥6799\r\n",
      "小米11 Pro（全网通/5G版） 概念产品\r\n",
      "华为nova 8 Pro（8GB/128GB/全网通/5G版） ￥3999\r\n",
      "OPPO Reno5 Pro（12GB/256GB/全网通/5G版） ￥3799\r\n",
      "苹果iPhone 11（4GB/64GB/全网通） ￥4399\r\n",
      "荣耀V40 概念产品\r\n",
      "vivo S7（8GB/128GB/全网通/5G版） ￥2798\r\n",
      "华为nova 7（8GB/128GB/5G版/全网通） ￥2999\r\n",
      "Redmi Note 9 Pro（6GB/128GB/全网通/5G版） ￥1599\r\n",
      "iQOO Z1（8GB/128GB/全网通/5G版） ￥2198\r\n",
      "荣耀30（6GB/128GB/全网通/5G版） ￥2699\r\n",
      "OPPO A72（8GB/128GB/全网通/5G版） ￥1899\r\n",
      "华为P40（6GB/128GB/全网通/5G版） ￥4188\r\n",
      "荣耀X10（6GB/128GB/全网通/5G版） ￥2199\r\n",
      "OPPO A53（4GB/128GB/全网通/5G版） ￥1299\r\n",
      "OPPO Reno4（8GB/128GB/全网通/5G版） ￥2999\r\n",
      "苹果iPhone 12 Pro（6GB/128GB/全网通/5G版） ￥8499\r\n",
      "华为Mate40 Pro+（12GB/256GB/全网通/5G版） ￥8999\r\n",
      "OPPO K7（8GB/128GB/全网通/5G版） ￥1999\r\n",
      "vivo X50 Pro+（8GB/128GB/全网通/5G版） ￥4998\r\n",
      "苹果iPhone XS Max（全网通） ￥5999\r\n",
      "华为P40 Pro（8GB/128GB/全网通/5G版） ￥5988\r\n",
      "iQOO 5（12GB/128GB/全网通/5G版） ￥4298\r\n",
      "OPPO Reno4 Pro（8GB/128GB/全网通/5G版） ￥3799\r\n",
      "苹果iPhone 12 Pro（6GB/256GB/全网通/5G版） ￥9299\r\n",
      "小米10青春版（8GB/128GB/全网通/5G版） ￥2299\r\n",
      "苹果iPhone 12 mini（4GB/64GB/全网通/5G版） ￥5499\r\n"
     ]
    }
   ],
   "source": [
    "!cat mobile.txt"
   ]
  },
  {
   "cell_type": "code",
   "execution_count": 2,
   "metadata": {},
   "outputs": [],
   "source": [
    "b_crawler = MyCrawler('bilibili.txt')"
   ]
  },
  {
   "cell_type": "code",
   "execution_count": 3,
   "metadata": {},
   "outputs": [],
   "source": [
    "url = 'https://www.bilibili.com/v/popular/rank/all'"
   ]
  },
  {
   "cell_type": "code",
   "execution_count": 4,
   "metadata": {},
   "outputs": [],
   "source": [
    "pattern = '<a\\shref=\"([^\"]*?)\"\\starget=\"_blank\"\\sclass=\"title\">(.*?)<\\/a>.*?<\\/i>(.*?)<\\/span>.*?<\\/i>(.*?)<\\/span>.*?<\\/i>(.*?)<\\/span>.*?<div>(\\d+)<\\/div>'"
   ]
  },
  {
   "cell_type": "code",
   "execution_count": 7,
   "metadata": {},
   "outputs": [],
   "source": [
    "b_crawler.crawl(url, pattern)"
   ]
  },
  {
   "cell_type": "code",
   "execution_count": 8,
   "metadata": {},
   "outputs": [],
   "source": [
    "!open bilibili.txt"
   ]
  },
  {
   "cell_type": "code",
   "execution_count": 9,
   "metadata": {},
   "outputs": [],
   "source": [
    "import requests\n",
    "\n",
    "headers = {\n",
    "    'Connection': 'keep-alive',\n",
    "    'Cache-Control': 'max-age=0',\n",
    "    'sec-ch-ua': '\"Google Chrome\";v=\"87\", \" Not;A Brand\";v=\"99\", \"Chromium\";v=\"87\"',\n",
    "    'sec-ch-ua-mobile': '?0',\n",
    "    'Upgrade-Insecure-Requests': '1',\n",
    "    'User-Agent': 'Mozilla/5.0 (Macintosh; Intel Mac OS X 11_1_0) AppleWebKit/537.36 (KHTML, like Gecko) Chrome/87.0.4280.88 Safari/537.36',\n",
    "    'Accept': 'text/html,application/xhtml+xml,application/xml;q=0.9,image/avif,image/webp,image/apng,*/*;q=0.8,application/signed-exchange;v=b3;q=0.9',\n",
    "    'Sec-Fetch-Site': 'none',\n",
    "    'Sec-Fetch-Mode': 'navigate',\n",
    "    'Sec-Fetch-User': '?1',\n",
    "    'Sec-Fetch-Dest': 'document',\n",
    "    'Accept-Language': 'zh-CN,zh;q=0.9,en-US;q=0.8,en;q=0.7',\n",
    "}\n",
    "\n",
    "response = requests.get('https://book.douban.com/tag/%E7%A5%9E%E7%BB%8F%E7%BD%91%E7%BB%9C', headers=headers, cookies=cookies)\n"
   ]
  },
  {
   "cell_type": "code",
   "execution_count": null,
   "metadata": {},
   "outputs": [],
   "source": []
  }
 ],
 "metadata": {
  "kernelspec": {
   "display_name": "Python 3",
   "language": "python",
   "name": "python3"
  },
  "language_info": {
   "codemirror_mode": {
    "name": "ipython",
    "version": 3
   },
   "file_extension": ".py",
   "mimetype": "text/x-python",
   "name": "python",
   "nbconvert_exporter": "python",
   "pygments_lexer": "ipython3",
   "version": "3.8.5"
  }
 },
 "nbformat": 4,
 "nbformat_minor": 4
}
