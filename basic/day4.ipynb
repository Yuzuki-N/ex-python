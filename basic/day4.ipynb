{
 "cells": [
  {
   "cell_type": "code",
   "execution_count": 38,
   "metadata": {},
   "outputs": [],
   "source": [
    "src_text = \"\"\"基础拉丁字母\n",
    "字符\t代码\t字符\t代码\t字符\t代码\t字符\t代码\t字符\t代码\t字符\t代码\t字符\t代码\n",
    "A\t·-\tB\t-···\tC\t-·-·\tD\t-··\tE\t·\tF\t··-·\tG\t--·\n",
    "H\t····\tI\t··\tJ\t·---\tK\t-·-\tL\t·-··\tM\t--\tN\t-·\n",
    "O\t---\tP\t·--·\tQ\t--·-\tR\t·-·\tS\t···\tT\t-\tU\t··-\n",
    "V\t···-\tW\t·--\tX\t-··-\tY\t-·--\tZ\t--··\t\t\t\t\n",
    "数字\n",
    "摩尔斯电码的数字有长码和短码，通常用长码，于中文电码中组成汉字则使用短码。\n",
    "\n",
    "字符\t长码\t短码\t字符\t长码\t短码\t字符\t长码\t短码\t字符\t长码\t短码\t字符\t长码\t短码\n",
    "1\t·----\t·-\t2\t··---\t··-\t3\t···--\t···-\t4\t····-\t····-\t5\t·····\t·····\n",
    "6\t-····\t-····\t7\t--···\t-···\t8\t---··\t-··\t9\t----·\t-·\t0\t-----\t-\n",
    "标点符号\n",
    "字符\t代码\t字符\t代码\t字符\t代码\t字符\t代码\t字符\t代码\t字符\t代码\n",
    ".\t·-·-·-\t:\t---···\t,\t--··--\t;\t-·-·-·\t?\t··--··\t=\t-···-\n",
    "'\t·----·\t/\t-··-·\t!\t-·-·--\t-\t-····-\t_\t··--·-\t\"\t·-··-·\n",
    "(\t-·--·\t)\t-·--·-\t$\t···-··-\t&\t·-···\t@\t·--·-·\t+\t·-·-·\n",
    "\"\"\""
   ]
  },
  {
   "cell_type": "code",
   "execution_count": 39,
   "metadata": {},
   "outputs": [],
   "source": [
    "import re"
   ]
  },
  {
   "cell_type": "code",
   "execution_count": 40,
   "metadata": {},
   "outputs": [],
   "source": [
    "morse_dict = dict()\n",
    "morse_dict_r = dict()\n",
    "for k, v in re.findall('(.)\\t([-·]+)', src_text):\n",
    "#     print(k, v)\n",
    "    morse_dict[k] = v\n",
    "    morse_dict_r[v] = k"
   ]
  },
  {
   "cell_type": "code",
   "execution_count": 41,
   "metadata": {},
   "outputs": [],
   "source": [
    "def morse_encode(src_text):\n",
    "    result = []\n",
    "    src_text = src_text.upper()\n",
    "    for single_char in src_text:\n",
    "        result.append(moorse_dict.get(single_char, '\\\\') + ' ')\n",
    "    return result  "
   ]
  },
  {
   "cell_type": "code",
   "execution_count": 42,
   "metadata": {},
   "outputs": [
    {
     "data": {
      "text/plain": [
       "'·· \\\\ ·-·· --- ···- · \\\\ -·-- --- ··- '"
      ]
     },
     "execution_count": 42,
     "metadata": {},
     "output_type": "execute_result"
    }
   ],
   "source": [
    "morse_encode('I love you')"
   ]
  },
  {
   "cell_type": "code",
   "execution_count": 43,
   "metadata": {},
   "outputs": [],
   "source": [
    "def morse_decode(morse_txt):\n",
    "    result = []\n",
    "    for seg in morse_txt.split():\n",
    "        result.append(morse_dict_r.get(seg, ' '))\n",
    "    return result"
   ]
  },
  {
   "cell_type": "code",
   "execution_count": 44,
   "metadata": {},
   "outputs": [
    {
     "data": {
      "text/plain": [
       "'I LOVE YOU'"
      ]
     },
     "execution_count": 44,
     "metadata": {},
     "output_type": "execute_result"
    }
   ],
   "source": [
    "morse_decode('·· \\\\ ·-·· --- ···- · \\\\ -·-- --- ··- ')"
   ]
  },
  {
   "cell_type": "code",
   "execution_count": null,
   "metadata": {},
   "outputs": [],
   "source": []
  }
 ],
 "metadata": {
  "kernelspec": {
   "display_name": "Python 3",
   "language": "python",
   "name": "python3"
  },
  "language_info": {
   "codemirror_mode": {
    "name": "ipython",
    "version": 3
   },
   "file_extension": ".py",
   "mimetype": "text/x-python",
   "name": "python",
   "nbconvert_exporter": "python",
   "pygments_lexer": "ipython3",
   "version": "3.8.5"
  }
 },
 "nbformat": 4,
 "nbformat_minor": 4
}
