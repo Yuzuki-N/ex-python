{
 "cells": [
  {
   "cell_type": "code",
   "execution_count": 1,
   "metadata": {},
   "outputs": [
    {
     "name": "stdout",
     "output_type": "stream",
     "text": [
      "/Users/yuzuki/practice/ex-python/basic\r\n"
     ]
    }
   ],
   "source": [
    "!pwd"
   ]
  },
  {
   "cell_type": "code",
   "execution_count": 2,
   "metadata": {},
   "outputs": [],
   "source": [
    "src_text = \"\"\"A\t·-\n",
    "H\t····\n",
    "O\t---\n",
    "V\t···-\n",
    "B\t-···\n",
    "I\t··\n",
    "P\t·--·\n",
    "W\t·--\n",
    "C\t-·-·\n",
    "J\t·---\n",
    "Q\t--·-\n",
    "X\t-··-\n",
    "D\t-··\n",
    "K\t-·-\n",
    "R\t·-·\n",
    "Y\t-·--\n",
    "D\t-··\n",
    "K\t-·-\n",
    "R\t·-·\n",
    "Y\t-·--\n",
    "E\t·\n",
    "L\t·-··\n",
    "S\t···\n",
    "Z\t--··\n",
    "F\t··-·\n",
    "M\t--\n",
    "T\t-\n",
    "G\t--·\n",
    "N\t-·\n",
    "U\t··-\"\"\""
   ]
  },
  {
   "cell_type": "code",
   "execution_count": 3,
   "metadata": {},
   "outputs": [
    {
     "data": {
      "text/plain": [
       "'A\\t·-\\nH\\t····\\nO\\t---\\nV\\t···-\\nB\\t-···\\nI\\t··\\nP\\t·--·\\nW\\t·--\\nC\\t-·-·\\nJ\\t·---\\nQ\\t--·-\\nX\\t-··-\\nD\\t-··\\nK\\t-·-\\nR\\t·-·\\nY\\t-·--\\nD\\t-··\\nK\\t-·-\\nR\\t·-·\\nY\\t-·--\\nE\\t·\\nL\\t·-··\\nS\\t···\\nZ\\t--··\\nF\\t··-·\\nM\\t--\\nT\\t-\\nG\\t--·\\nN\\t-·\\nU\\t··-'"
      ]
     },
     "execution_count": 3,
     "metadata": {},
     "output_type": "execute_result"
    }
   ],
   "source": [
    "src_text"
   ]
  },
  {
   "cell_type": "code",
   "execution_count": 4,
   "metadata": {},
   "outputs": [],
   "source": [
    "moorse_table_dict = dict()"
   ]
  },
  {
   "cell_type": "code",
   "execution_count": 5,
   "metadata": {},
   "outputs": [],
   "source": [
    "for line in src_text.split('\\n'):\n",
    "    k, v = line.split()\n",
    "    moorse_table_dict[k] = v"
   ]
  },
  {
   "cell_type": "code",
   "execution_count": 6,
   "metadata": {},
   "outputs": [
    {
     "data": {
      "text/plain": [
       "{'A': '·-',\n",
       " 'H': '····',\n",
       " 'O': '---',\n",
       " 'V': '···-',\n",
       " 'B': '-···',\n",
       " 'I': '··',\n",
       " 'P': '·--·',\n",
       " 'W': '·--',\n",
       " 'C': '-·-·',\n",
       " 'J': '·---',\n",
       " 'Q': '--·-',\n",
       " 'X': '-··-',\n",
       " 'D': '-··',\n",
       " 'K': '-·-',\n",
       " 'R': '·-·',\n",
       " 'Y': '-·--',\n",
       " 'E': '·',\n",
       " 'L': '·-··',\n",
       " 'S': '···',\n",
       " 'Z': '--··',\n",
       " 'F': '··-·',\n",
       " 'M': '--',\n",
       " 'T': '-',\n",
       " 'G': '--·',\n",
       " 'N': '-·',\n",
       " 'U': '··-'}"
      ]
     },
     "execution_count": 6,
     "metadata": {},
     "output_type": "execute_result"
    }
   ],
   "source": [
    "moorse_table_dict"
   ]
  },
  {
   "cell_type": "code",
   "execution_count": null,
   "metadata": {},
   "outputs": [],
   "source": []
  }
 ],
 "metadata": {
  "kernelspec": {
   "display_name": "Python 3",
   "language": "python",
   "name": "python3"
  },
  "language_info": {
   "codemirror_mode": {
    "name": "ipython",
    "version": 3
   },
   "file_extension": ".py",
   "mimetype": "text/x-python",
   "name": "python",
   "nbconvert_exporter": "python",
   "pygments_lexer": "ipython3",
   "version": "3.8.5"
  }
 },
 "nbformat": 4,
 "nbformat_minor": 4
}
