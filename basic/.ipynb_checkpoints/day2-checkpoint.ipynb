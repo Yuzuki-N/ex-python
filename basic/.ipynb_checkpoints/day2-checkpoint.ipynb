{
 "cells": [
  {
   "cell_type": "code",
   "execution_count": 2,
   "metadata": {},
   "outputs": [
    {
     "name": "stdout",
     "output_type": "stream",
     "text": [
      "请问你有几个选项3\n",
      "您的最佳选择是： 3\n"
     ]
    }
   ],
   "source": [
    "MYFAV = 3\n",
    "\n",
    "num_of_options = input(\"请问你有几个选项\")\n",
    "if MYFAV > int(num_of_options):\n",
    "    result = 1\n",
    "else:\n",
    "    result = MYFAV\n",
    "    \n",
    "print(\"您的最佳选择是：\", result)"
   ]
  },
  {
   "cell_type": "code",
   "execution_count": 4,
   "metadata": {},
   "outputs": [
    {
     "name": "stdout",
     "output_type": "stream",
     "text": [
      "请问你有几个选项3\n",
      "您的最佳选择是： 2\n"
     ]
    }
   ],
   "source": [
    "import random\n",
    "\n",
    "num_of_options = input(\"请问你有几个选项\")\n",
    "result = random.randint(1, int(num_of_options))\n",
    "print(\"您的最佳选择是：\", result)"
   ]
  },
  {
   "cell_type": "code",
   "execution_count": 6,
   "metadata": {},
   "outputs": [
    {
     "data": {
      "text/plain": [
       "-6004939755462119203"
      ]
     },
     "execution_count": 6,
     "metadata": {},
     "output_type": "execute_result"
    }
   ],
   "source": [
    "a = '红烧鱼'\n",
    "hash(a)"
   ]
  },
  {
   "cell_type": "code",
   "execution_count": 10,
   "metadata": {},
   "outputs": [
    {
     "name": "stdout",
     "output_type": "stream",
     "text": [
      "你猜: 40\n",
      "太大了 80\n",
      "太大了 123\n",
      "太大了 12\n",
      "太小了19\n",
      "太小了50\n",
      "太大了 30\n",
      "猜对了\n"
     ]
    }
   ],
   "source": [
    "import random\n",
    "\n",
    "prompt = \"你猜: \"\n",
    "answer = random.randint(1, 100)\n",
    "\n",
    "while True:\n",
    "    guess = input(prompt)\n",
    "    guess_num = int(guess)\n",
    "    \n",
    "    if guess_num > answer:\n",
    "        prompt = \"太大了 \"\n",
    "    elif guess_num < answer:\n",
    "        prompt = \"太小了\"\n",
    "    else:\n",
    "        print(\"猜对了\")\n",
    "        break;"
   ]
  },
  {
   "cell_type": "code",
   "execution_count": 11,
   "metadata": {},
   "outputs": [],
   "source": [
    "alphabet = 'abcdefghijklmnopqrstuvwxyz'"
   ]
  },
  {
   "cell_type": "code",
   "execution_count": 12,
   "metadata": {},
   "outputs": [
    {
     "data": {
      "text/plain": [
       "'r'"
      ]
     },
     "execution_count": 12,
     "metadata": {},
     "output_type": "execute_result"
    }
   ],
   "source": [
    "alphabet[random.randint(0, 25)]"
   ]
  },
  {
   "cell_type": "code",
   "execution_count": 15,
   "metadata": {},
   "outputs": [
    {
     "data": {
      "text/plain": [
       "25"
      ]
     },
     "execution_count": 15,
     "metadata": {},
     "output_type": "execute_result"
    }
   ],
   "source": [
    "ord('z') - ord('a')"
   ]
  },
  {
   "cell_type": "code",
   "execution_count": null,
   "metadata": {},
   "outputs": [],
   "source": []
  },
  {
   "cell_type": "code",
   "execution_count": null,
   "metadata": {},
   "outputs": [],
   "source": [
    "import random\n",
    "\n",
    "prompt = \"你猜: \"\n",
    "answer = random.randint(1, 100)\n",
    "\n",
    "while True:\n",
    "    guess = input(prompt)\n",
    "    guess_num = int(guess)\n",
    "    \n",
    "    if guess_num > answer:\n",
    "        prompt = \"太大了 \"\n",
    "    elif guess_num < answer:\n",
    "        prompt = \"太小了\"\n",
    "    else:\n",
    "        print(\"猜对了\")\n",
    "        break;"
   ]
  },
  {
   "cell_type": "code",
   "execution_count": 8,
   "metadata": {},
   "outputs": [
    {
     "data": {
      "text/plain": [
       "97"
      ]
     },
     "execution_count": 8,
     "metadata": {},
     "output_type": "execute_result"
    }
   ],
   "source": [
    "ord('a')"
   ]
  },
  {
   "cell_type": "code",
   "execution_count": 6,
   "metadata": {},
   "outputs": [
    {
     "name": "stdout",
     "output_type": "stream",
     "text": [
      "猜字母: g\n",
      "还没到i\n",
      "还没到k\n",
      "还没到l\n",
      "还没到m\n",
      "还没到n\n",
      "还没到o\n",
      "还没到p\n",
      "还没到z\n",
      "过了r\n",
      "过了s\n",
      "过了t\n",
      "过了q\n",
      "猜对了\n"
     ]
    }
   ],
   "source": [
    "import random\n",
    "\n",
    "prompt = \"猜字母: \"\n",
    "answer = chr(random.randint(97, 122))\n",
    "\n",
    "while True:\n",
    "    guess = input(prompt)\n",
    "    \n",
    "    if guess > answer:\n",
    "        prompt = \"过了\"\n",
    "    elif guess < answer:\n",
    "        prompt = \"还没到\"\n",
    "    else:\n",
    "        print(\"猜对了\")\n",
    "        break;"
   ]
  },
  {
   "cell_type": "code",
   "execution_count": 9,
   "metadata": {},
   "outputs": [
    {
     "data": {
      "text/plain": [
       "4368169312"
      ]
     },
     "execution_count": 9,
     "metadata": {},
     "output_type": "execute_result"
    }
   ],
   "source": [
    "id(1)"
   ]
  },
  {
   "cell_type": "code",
   "execution_count": 10,
   "metadata": {},
   "outputs": [
    {
     "data": {
      "text/plain": [
       "4368169312"
      ]
     },
     "execution_count": 10,
     "metadata": {},
     "output_type": "execute_result"
    }
   ],
   "source": [
    "a=1\n",
    "id(a)"
   ]
  },
  {
   "cell_type": "code",
   "execution_count": 11,
   "metadata": {},
   "outputs": [
    {
     "data": {
      "text/plain": [
       "4368169312"
      ]
     },
     "execution_count": 11,
     "metadata": {},
     "output_type": "execute_result"
    }
   ],
   "source": [
    "id(a)"
   ]
  },
  {
   "cell_type": "code",
   "execution_count": 12,
   "metadata": {},
   "outputs": [],
   "source": [
    "# continue\n",
    "# tomorow\n",
    "# fighting\n",
    "# fighting\n",
    "# fighting"
   ]
  },
  {
   "cell_type": "code",
   "execution_count": 13,
   "metadata": {},
   "outputs": [
    {
     "data": {
      "text/plain": [
       "1"
      ]
     },
     "execution_count": 13,
     "metadata": {},
     "output_type": "execute_result"
    }
   ],
   "source": [
    "hash(1)"
   ]
  },
  {
   "cell_type": "code",
   "execution_count": 14,
   "metadata": {},
   "outputs": [
    {
     "data": {
      "text/plain": [
       "1"
      ]
     },
     "execution_count": 14,
     "metadata": {},
     "output_type": "execute_result"
    }
   ],
   "source": [
    "hash(1)"
   ]
  },
  {
   "cell_type": "code",
   "execution_count": 15,
   "metadata": {},
   "outputs": [
    {
     "data": {
      "text/plain": [
       "1"
      ]
     },
     "execution_count": 15,
     "metadata": {},
     "output_type": "execute_result"
    }
   ],
   "source": [
    "hash(1.0)"
   ]
  },
  {
   "cell_type": "code",
   "execution_count": null,
   "metadata": {},
   "outputs": [],
   "source": []
  }
 ],
 "metadata": {
  "kernelspec": {
   "display_name": "Python 3",
   "language": "python",
   "name": "python3"
  },
  "language_info": {
   "codemirror_mode": {
    "name": "ipython",
    "version": 3
   },
   "file_extension": ".py",
   "mimetype": "text/x-python",
   "name": "python",
   "nbconvert_exporter": "python",
   "pygments_lexer": "ipython3",
   "version": "3.8.5"
  }
 },
 "nbformat": 4,
 "nbformat_minor": 4
}
